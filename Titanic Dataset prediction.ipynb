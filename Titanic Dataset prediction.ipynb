{
 "cells": [
  {
   "cell_type": "code",
   "execution_count": 1,
   "id": "71464899",
   "metadata": {
    "_cell_guid": "b1076dfc-b9ad-4769-8c92-a6c4dae69d19",
    "_uuid": "8f2839f25d086af736a60e9eeb907d3b93b6e0e5",
    "execution": {
     "iopub.execute_input": "2021-09-11T12:37:33.498483Z",
     "iopub.status.busy": "2021-09-11T12:37:33.497862Z",
     "iopub.status.idle": "2021-09-11T12:37:34.601993Z",
     "shell.execute_reply": "2021-09-11T12:37:34.601268Z",
     "shell.execute_reply.started": "2021-09-11T12:21:43.143980Z"
    },
    "papermill": {
     "duration": 1.131276,
     "end_time": "2021-09-11T12:37:34.602153",
     "exception": false,
     "start_time": "2021-09-11T12:37:33.470877",
     "status": "completed"
    },
    "tags": []
   },
   "outputs": [],
   "source": [
    "import numpy as np \n",
    "import pandas as pd \n",
    "from sklearn.ensemble import RandomForestClassifier"
   ]
  },
  {
   "cell_type": "code",
   "execution_count": 2,
   "id": "f6099820",
   "metadata": {
    "execution": {
     "iopub.execute_input": "2021-09-11T12:37:34.633391Z",
     "iopub.status.busy": "2021-09-11T12:37:34.632589Z",
     "iopub.status.idle": "2021-09-11T12:37:34.652243Z",
     "shell.execute_reply": "2021-09-11T12:37:34.652738Z",
     "shell.execute_reply.started": "2021-09-11T12:02:37.042211Z"
    },
    "papermill": {
     "duration": 0.037372,
     "end_time": "2021-09-11T12:37:34.652931",
     "exception": false,
     "start_time": "2021-09-11T12:37:34.615559",
     "status": "completed"
    },
    "tags": []
   },
   "outputs": [],
   "source": [
    "train_data = pd.read_csv(\"/kaggle/input/titanic/train.csv\")"
   ]
  },
  {
   "cell_type": "code",
   "execution_count": 3,
   "id": "28d55ca1",
   "metadata": {
    "execution": {
     "iopub.execute_input": "2021-09-11T12:37:34.682094Z",
     "iopub.status.busy": "2021-09-11T12:37:34.681466Z",
     "iopub.status.idle": "2021-09-11T12:37:34.703001Z",
     "shell.execute_reply": "2021-09-11T12:37:34.703506Z",
     "shell.execute_reply.started": "2021-09-11T12:03:05.839967Z"
    },
    "papermill": {
     "duration": 0.03774,
     "end_time": "2021-09-11T12:37:34.703667",
     "exception": false,
     "start_time": "2021-09-11T12:37:34.665927",
     "status": "completed"
    },
    "tags": []
   },
   "outputs": [
    {
     "data": {
      "text/html": [
       "<div>\n",
       "<style scoped>\n",
       "    .dataframe tbody tr th:only-of-type {\n",
       "        vertical-align: middle;\n",
       "    }\n",
       "\n",
       "    .dataframe tbody tr th {\n",
       "        vertical-align: top;\n",
       "    }\n",
       "\n",
       "    .dataframe thead th {\n",
       "        text-align: right;\n",
       "    }\n",
       "</style>\n",
       "<table border=\"1\" class=\"dataframe\">\n",
       "  <thead>\n",
       "    <tr style=\"text-align: right;\">\n",
       "      <th></th>\n",
       "      <th>PassengerId</th>\n",
       "      <th>Survived</th>\n",
       "      <th>Pclass</th>\n",
       "      <th>Name</th>\n",
       "      <th>Sex</th>\n",
       "      <th>Age</th>\n",
       "      <th>SibSp</th>\n",
       "      <th>Parch</th>\n",
       "      <th>Ticket</th>\n",
       "      <th>Fare</th>\n",
       "      <th>Cabin</th>\n",
       "      <th>Embarked</th>\n",
       "    </tr>\n",
       "  </thead>\n",
       "  <tbody>\n",
       "    <tr>\n",
       "      <th>0</th>\n",
       "      <td>1</td>\n",
       "      <td>0</td>\n",
       "      <td>3</td>\n",
       "      <td>Braund, Mr. Owen Harris</td>\n",
       "      <td>male</td>\n",
       "      <td>22.0</td>\n",
       "      <td>1</td>\n",
       "      <td>0</td>\n",
       "      <td>A/5 21171</td>\n",
       "      <td>7.2500</td>\n",
       "      <td>NaN</td>\n",
       "      <td>S</td>\n",
       "    </tr>\n",
       "    <tr>\n",
       "      <th>1</th>\n",
       "      <td>2</td>\n",
       "      <td>1</td>\n",
       "      <td>1</td>\n",
       "      <td>Cumings, Mrs. John Bradley (Florence Briggs Th...</td>\n",
       "      <td>female</td>\n",
       "      <td>38.0</td>\n",
       "      <td>1</td>\n",
       "      <td>0</td>\n",
       "      <td>PC 17599</td>\n",
       "      <td>71.2833</td>\n",
       "      <td>C85</td>\n",
       "      <td>C</td>\n",
       "    </tr>\n",
       "    <tr>\n",
       "      <th>2</th>\n",
       "      <td>3</td>\n",
       "      <td>1</td>\n",
       "      <td>3</td>\n",
       "      <td>Heikkinen, Miss. Laina</td>\n",
       "      <td>female</td>\n",
       "      <td>26.0</td>\n",
       "      <td>0</td>\n",
       "      <td>0</td>\n",
       "      <td>STON/O2. 3101282</td>\n",
       "      <td>7.9250</td>\n",
       "      <td>NaN</td>\n",
       "      <td>S</td>\n",
       "    </tr>\n",
       "    <tr>\n",
       "      <th>3</th>\n",
       "      <td>4</td>\n",
       "      <td>1</td>\n",
       "      <td>1</td>\n",
       "      <td>Futrelle, Mrs. Jacques Heath (Lily May Peel)</td>\n",
       "      <td>female</td>\n",
       "      <td>35.0</td>\n",
       "      <td>1</td>\n",
       "      <td>0</td>\n",
       "      <td>113803</td>\n",
       "      <td>53.1000</td>\n",
       "      <td>C123</td>\n",
       "      <td>S</td>\n",
       "    </tr>\n",
       "    <tr>\n",
       "      <th>4</th>\n",
       "      <td>5</td>\n",
       "      <td>0</td>\n",
       "      <td>3</td>\n",
       "      <td>Allen, Mr. William Henry</td>\n",
       "      <td>male</td>\n",
       "      <td>35.0</td>\n",
       "      <td>0</td>\n",
       "      <td>0</td>\n",
       "      <td>373450</td>\n",
       "      <td>8.0500</td>\n",
       "      <td>NaN</td>\n",
       "      <td>S</td>\n",
       "    </tr>\n",
       "  </tbody>\n",
       "</table>\n",
       "</div>"
      ],
      "text/plain": [
       "   PassengerId  Survived  Pclass  \\\n",
       "0            1         0       3   \n",
       "1            2         1       1   \n",
       "2            3         1       3   \n",
       "3            4         1       1   \n",
       "4            5         0       3   \n",
       "\n",
       "                                                Name     Sex   Age  SibSp  \\\n",
       "0                            Braund, Mr. Owen Harris    male  22.0      1   \n",
       "1  Cumings, Mrs. John Bradley (Florence Briggs Th...  female  38.0      1   \n",
       "2                             Heikkinen, Miss. Laina  female  26.0      0   \n",
       "3       Futrelle, Mrs. Jacques Heath (Lily May Peel)  female  35.0      1   \n",
       "4                           Allen, Mr. William Henry    male  35.0      0   \n",
       "\n",
       "   Parch            Ticket     Fare Cabin Embarked  \n",
       "0      0         A/5 21171   7.2500   NaN        S  \n",
       "1      0          PC 17599  71.2833   C85        C  \n",
       "2      0  STON/O2. 3101282   7.9250   NaN        S  \n",
       "3      0            113803  53.1000  C123        S  \n",
       "4      0            373450   8.0500   NaN        S  "
      ]
     },
     "execution_count": 3,
     "metadata": {},
     "output_type": "execute_result"
    }
   ],
   "source": [
    "train_data.head()"
   ]
  },
  {
   "cell_type": "code",
   "execution_count": 4,
   "id": "b83384f1",
   "metadata": {
    "execution": {
     "iopub.execute_input": "2021-09-11T12:37:34.734073Z",
     "iopub.status.busy": "2021-09-11T12:37:34.733394Z",
     "iopub.status.idle": "2021-09-11T12:37:34.746164Z",
     "shell.execute_reply": "2021-09-11T12:37:34.746696Z",
     "shell.execute_reply.started": "2021-09-11T12:04:09.507688Z"
    },
    "papermill": {
     "duration": 0.029362,
     "end_time": "2021-09-11T12:37:34.746862",
     "exception": false,
     "start_time": "2021-09-11T12:37:34.717500",
     "status": "completed"
    },
    "tags": []
   },
   "outputs": [],
   "source": [
    "test_data = pd.read_csv(\"/kaggle/input/titanic/test.csv\")"
   ]
  },
  {
   "cell_type": "code",
   "execution_count": 5,
   "id": "02c23db9",
   "metadata": {
    "execution": {
     "iopub.execute_input": "2021-09-11T12:37:34.776671Z",
     "iopub.status.busy": "2021-09-11T12:37:34.776062Z",
     "iopub.status.idle": "2021-09-11T12:37:34.789053Z",
     "shell.execute_reply": "2021-09-11T12:37:34.789557Z",
     "shell.execute_reply.started": "2021-09-11T12:04:23.026281Z"
    },
    "papermill": {
     "duration": 0.029397,
     "end_time": "2021-09-11T12:37:34.789718",
     "exception": false,
     "start_time": "2021-09-11T12:37:34.760321",
     "status": "completed"
    },
    "tags": []
   },
   "outputs": [
    {
     "data": {
      "text/html": [
       "<div>\n",
       "<style scoped>\n",
       "    .dataframe tbody tr th:only-of-type {\n",
       "        vertical-align: middle;\n",
       "    }\n",
       "\n",
       "    .dataframe tbody tr th {\n",
       "        vertical-align: top;\n",
       "    }\n",
       "\n",
       "    .dataframe thead th {\n",
       "        text-align: right;\n",
       "    }\n",
       "</style>\n",
       "<table border=\"1\" class=\"dataframe\">\n",
       "  <thead>\n",
       "    <tr style=\"text-align: right;\">\n",
       "      <th></th>\n",
       "      <th>PassengerId</th>\n",
       "      <th>Pclass</th>\n",
       "      <th>Name</th>\n",
       "      <th>Sex</th>\n",
       "      <th>Age</th>\n",
       "      <th>SibSp</th>\n",
       "      <th>Parch</th>\n",
       "      <th>Ticket</th>\n",
       "      <th>Fare</th>\n",
       "      <th>Cabin</th>\n",
       "      <th>Embarked</th>\n",
       "    </tr>\n",
       "  </thead>\n",
       "  <tbody>\n",
       "    <tr>\n",
       "      <th>0</th>\n",
       "      <td>892</td>\n",
       "      <td>3</td>\n",
       "      <td>Kelly, Mr. James</td>\n",
       "      <td>male</td>\n",
       "      <td>34.5</td>\n",
       "      <td>0</td>\n",
       "      <td>0</td>\n",
       "      <td>330911</td>\n",
       "      <td>7.8292</td>\n",
       "      <td>NaN</td>\n",
       "      <td>Q</td>\n",
       "    </tr>\n",
       "    <tr>\n",
       "      <th>1</th>\n",
       "      <td>893</td>\n",
       "      <td>3</td>\n",
       "      <td>Wilkes, Mrs. James (Ellen Needs)</td>\n",
       "      <td>female</td>\n",
       "      <td>47.0</td>\n",
       "      <td>1</td>\n",
       "      <td>0</td>\n",
       "      <td>363272</td>\n",
       "      <td>7.0000</td>\n",
       "      <td>NaN</td>\n",
       "      <td>S</td>\n",
       "    </tr>\n",
       "    <tr>\n",
       "      <th>2</th>\n",
       "      <td>894</td>\n",
       "      <td>2</td>\n",
       "      <td>Myles, Mr. Thomas Francis</td>\n",
       "      <td>male</td>\n",
       "      <td>62.0</td>\n",
       "      <td>0</td>\n",
       "      <td>0</td>\n",
       "      <td>240276</td>\n",
       "      <td>9.6875</td>\n",
       "      <td>NaN</td>\n",
       "      <td>Q</td>\n",
       "    </tr>\n",
       "    <tr>\n",
       "      <th>3</th>\n",
       "      <td>895</td>\n",
       "      <td>3</td>\n",
       "      <td>Wirz, Mr. Albert</td>\n",
       "      <td>male</td>\n",
       "      <td>27.0</td>\n",
       "      <td>0</td>\n",
       "      <td>0</td>\n",
       "      <td>315154</td>\n",
       "      <td>8.6625</td>\n",
       "      <td>NaN</td>\n",
       "      <td>S</td>\n",
       "    </tr>\n",
       "    <tr>\n",
       "      <th>4</th>\n",
       "      <td>896</td>\n",
       "      <td>3</td>\n",
       "      <td>Hirvonen, Mrs. Alexander (Helga E Lindqvist)</td>\n",
       "      <td>female</td>\n",
       "      <td>22.0</td>\n",
       "      <td>1</td>\n",
       "      <td>1</td>\n",
       "      <td>3101298</td>\n",
       "      <td>12.2875</td>\n",
       "      <td>NaN</td>\n",
       "      <td>S</td>\n",
       "    </tr>\n",
       "  </tbody>\n",
       "</table>\n",
       "</div>"
      ],
      "text/plain": [
       "   PassengerId  Pclass                                          Name     Sex  \\\n",
       "0          892       3                              Kelly, Mr. James    male   \n",
       "1          893       3              Wilkes, Mrs. James (Ellen Needs)  female   \n",
       "2          894       2                     Myles, Mr. Thomas Francis    male   \n",
       "3          895       3                              Wirz, Mr. Albert    male   \n",
       "4          896       3  Hirvonen, Mrs. Alexander (Helga E Lindqvist)  female   \n",
       "\n",
       "    Age  SibSp  Parch   Ticket     Fare Cabin Embarked  \n",
       "0  34.5      0      0   330911   7.8292   NaN        Q  \n",
       "1  47.0      1      0   363272   7.0000   NaN        S  \n",
       "2  62.0      0      0   240276   9.6875   NaN        Q  \n",
       "3  27.0      0      0   315154   8.6625   NaN        S  \n",
       "4  22.0      1      1  3101298  12.2875   NaN        S  "
      ]
     },
     "execution_count": 5,
     "metadata": {},
     "output_type": "execute_result"
    }
   ],
   "source": [
    "test_data.head()"
   ]
  },
  {
   "cell_type": "code",
   "execution_count": 6,
   "id": "01d12264",
   "metadata": {
    "execution": {
     "iopub.execute_input": "2021-09-11T12:37:34.820366Z",
     "iopub.status.busy": "2021-09-11T12:37:34.819793Z",
     "iopub.status.idle": "2021-09-11T12:37:34.828684Z",
     "shell.execute_reply": "2021-09-11T12:37:34.829120Z",
     "shell.execute_reply.started": "2021-09-11T12:13:00.366163Z"
    },
    "papermill": {
     "duration": 0.025697,
     "end_time": "2021-09-11T12:37:34.829276",
     "exception": false,
     "start_time": "2021-09-11T12:37:34.803579",
     "status": "completed"
    },
    "tags": []
   },
   "outputs": [],
   "source": [
    "women = train_data.loc[train_data.Sex == 'female'][\"Survived\"]\n",
    "rate_women = sum(women)/len(women)"
   ]
  },
  {
   "cell_type": "code",
   "execution_count": 7,
   "id": "31f6d9a2",
   "metadata": {
    "execution": {
     "iopub.execute_input": "2021-09-11T12:37:34.860282Z",
     "iopub.status.busy": "2021-09-11T12:37:34.859585Z",
     "iopub.status.idle": "2021-09-11T12:37:34.864550Z",
     "shell.execute_reply": "2021-09-11T12:37:34.865105Z",
     "shell.execute_reply.started": "2021-09-11T12:14:01.796836Z"
    },
    "papermill": {
     "duration": 0.021973,
     "end_time": "2021-09-11T12:37:34.865264",
     "exception": false,
     "start_time": "2021-09-11T12:37:34.843291",
     "status": "completed"
    },
    "tags": []
   },
   "outputs": [],
   "source": [
    "men = train_data.loc[train_data.Sex == 'male'][\"Survived\"]\n",
    "rate_men = sum(men)/len(men)"
   ]
  },
  {
   "cell_type": "code",
   "execution_count": 8,
   "id": "fa3926b6",
   "metadata": {
    "execution": {
     "iopub.execute_input": "2021-09-11T12:37:34.897622Z",
     "iopub.status.busy": "2021-09-11T12:37:34.896983Z",
     "iopub.status.idle": "2021-09-11T12:37:34.901355Z",
     "shell.execute_reply": "2021-09-11T12:37:34.902279Z",
     "shell.execute_reply.started": "2021-09-11T12:16:10.605675Z"
    },
    "papermill": {
     "duration": 0.022749,
     "end_time": "2021-09-11T12:37:34.902440",
     "exception": false,
     "start_time": "2021-09-11T12:37:34.879691",
     "status": "completed"
    },
    "tags": []
   },
   "outputs": [
    {
     "name": "stdout",
     "output_type": "stream",
     "text": [
      "% of women who survived:  0.7420382165605095\n",
      "% of men who survived:  0.18890814558058924\n"
     ]
    }
   ],
   "source": [
    "print(\"% of women who survived: \",rate_women)\n",
    "print(\"% of men who survived: \",rate_men)"
   ]
  },
  {
   "cell_type": "code",
   "execution_count": 9,
   "id": "f347d5ae",
   "metadata": {
    "execution": {
     "iopub.execute_input": "2021-09-11T12:37:34.935349Z",
     "iopub.status.busy": "2021-09-11T12:37:34.934712Z",
     "iopub.status.idle": "2021-09-11T12:37:34.937055Z",
     "shell.execute_reply": "2021-09-11T12:37:34.936543Z",
     "shell.execute_reply.started": "2021-09-11T12:22:48.257518Z"
    },
    "papermill": {
     "duration": 0.02051,
     "end_time": "2021-09-11T12:37:34.937178",
     "exception": false,
     "start_time": "2021-09-11T12:37:34.916668",
     "status": "completed"
    },
    "tags": []
   },
   "outputs": [],
   "source": [
    "target = train_data['Survived']"
   ]
  },
  {
   "cell_type": "code",
   "execution_count": 10,
   "id": "edc013d1",
   "metadata": {
    "execution": {
     "iopub.execute_input": "2021-09-11T12:37:34.970573Z",
     "iopub.status.busy": "2021-09-11T12:37:34.969943Z",
     "iopub.status.idle": "2021-09-11T12:37:34.972502Z",
     "shell.execute_reply": "2021-09-11T12:37:34.972942Z",
     "shell.execute_reply.started": "2021-09-11T12:25:06.861661Z"
    },
    "papermill": {
     "duration": 0.021604,
     "end_time": "2021-09-11T12:37:34.973096",
     "exception": false,
     "start_time": "2021-09-11T12:37:34.951492",
     "status": "completed"
    },
    "tags": []
   },
   "outputs": [],
   "source": [
    "feature = [\"Pclass\",\"Sex\",\"SibSp\",\"Parch\"]"
   ]
  },
  {
   "cell_type": "code",
   "execution_count": 11,
   "id": "66f8a290",
   "metadata": {
    "execution": {
     "iopub.execute_input": "2021-09-11T12:37:35.016270Z",
     "iopub.status.busy": "2021-09-11T12:37:35.015583Z",
     "iopub.status.idle": "2021-09-11T12:37:35.025072Z",
     "shell.execute_reply": "2021-09-11T12:37:35.024479Z",
     "shell.execute_reply.started": "2021-09-11T12:27:40.281733Z"
    },
    "papermill": {
     "duration": 0.038037,
     "end_time": "2021-09-11T12:37:35.025208",
     "exception": false,
     "start_time": "2021-09-11T12:37:34.987171",
     "status": "completed"
    },
    "tags": []
   },
   "outputs": [],
   "source": [
    "X = pd.get_dummies(train_data[feature])\n",
    "X_test = pd.get_dummies(test_data[feature])"
   ]
  },
  {
   "cell_type": "code",
   "execution_count": 12,
   "id": "e065e66e",
   "metadata": {
    "execution": {
     "iopub.execute_input": "2021-09-11T12:37:35.059195Z",
     "iopub.status.busy": "2021-09-11T12:37:35.058289Z",
     "iopub.status.idle": "2021-09-11T12:37:35.275318Z",
     "shell.execute_reply": "2021-09-11T12:37:35.274636Z",
     "shell.execute_reply.started": "2021-09-11T12:30:52.485568Z"
    },
    "papermill": {
     "duration": 0.234693,
     "end_time": "2021-09-11T12:37:35.275468",
     "exception": false,
     "start_time": "2021-09-11T12:37:35.040775",
     "status": "completed"
    },
    "tags": []
   },
   "outputs": [],
   "source": [
    "model = RandomForestClassifier(n_estimators=100,max_depth=5,random_state=1)\n",
    "model.fit(X,target)\n",
    "predictions = model.predict(X_test)"
   ]
  },
  {
   "cell_type": "code",
   "execution_count": 13,
   "id": "c9145dae",
   "metadata": {
    "execution": {
     "iopub.execute_input": "2021-09-11T12:37:35.310180Z",
     "iopub.status.busy": "2021-09-11T12:37:35.309559Z",
     "iopub.status.idle": "2021-09-11T12:37:35.315486Z",
     "shell.execute_reply": "2021-09-11T12:37:35.314923Z",
     "shell.execute_reply.started": "2021-09-11T12:36:08.762137Z"
    },
    "papermill": {
     "duration": 0.025716,
     "end_time": "2021-09-11T12:37:35.315615",
     "exception": false,
     "start_time": "2021-09-11T12:37:35.289899",
     "status": "completed"
    },
    "tags": []
   },
   "outputs": [],
   "source": [
    "output = pd.DataFrame({'PassengerId':test_data.PassengerId,'Survived':predictions})\n",
    "output.to_csv(\"my_submission.csv\",index=False)"
   ]
  },
  {
   "cell_type": "code",
   "execution_count": 14,
   "id": "583673ad",
   "metadata": {
    "execution": {
     "iopub.execute_input": "2021-09-11T12:37:35.352538Z",
     "iopub.status.busy": "2021-09-11T12:37:35.351816Z",
     "iopub.status.idle": "2021-09-11T12:37:35.355628Z",
     "shell.execute_reply": "2021-09-11T12:37:35.355128Z",
     "shell.execute_reply.started": "2021-09-11T12:36:20.682598Z"
    },
    "papermill": {
     "duration": 0.02601,
     "end_time": "2021-09-11T12:37:35.355766",
     "exception": false,
     "start_time": "2021-09-11T12:37:35.329756",
     "status": "completed"
    },
    "tags": []
   },
   "outputs": [
    {
     "data": {
      "text/html": [
       "<div>\n",
       "<style scoped>\n",
       "    .dataframe tbody tr th:only-of-type {\n",
       "        vertical-align: middle;\n",
       "    }\n",
       "\n",
       "    .dataframe tbody tr th {\n",
       "        vertical-align: top;\n",
       "    }\n",
       "\n",
       "    .dataframe thead th {\n",
       "        text-align: right;\n",
       "    }\n",
       "</style>\n",
       "<table border=\"1\" class=\"dataframe\">\n",
       "  <thead>\n",
       "    <tr style=\"text-align: right;\">\n",
       "      <th></th>\n",
       "      <th>PassengerId</th>\n",
       "      <th>Survived</th>\n",
       "    </tr>\n",
       "  </thead>\n",
       "  <tbody>\n",
       "    <tr>\n",
       "      <th>0</th>\n",
       "      <td>892</td>\n",
       "      <td>0</td>\n",
       "    </tr>\n",
       "    <tr>\n",
       "      <th>1</th>\n",
       "      <td>893</td>\n",
       "      <td>1</td>\n",
       "    </tr>\n",
       "    <tr>\n",
       "      <th>2</th>\n",
       "      <td>894</td>\n",
       "      <td>0</td>\n",
       "    </tr>\n",
       "    <tr>\n",
       "      <th>3</th>\n",
       "      <td>895</td>\n",
       "      <td>0</td>\n",
       "    </tr>\n",
       "    <tr>\n",
       "      <th>4</th>\n",
       "      <td>896</td>\n",
       "      <td>1</td>\n",
       "    </tr>\n",
       "  </tbody>\n",
       "</table>\n",
       "</div>"
      ],
      "text/plain": [
       "   PassengerId  Survived\n",
       "0          892         0\n",
       "1          893         1\n",
       "2          894         0\n",
       "3          895         0\n",
       "4          896         1"
      ]
     },
     "execution_count": 14,
     "metadata": {},
     "output_type": "execute_result"
    }
   ],
   "source": [
    "output.head()"
   ]
  },
  {
   "cell_type": "code",
   "execution_count": null,
   "id": "3f381797",
   "metadata": {
    "papermill": {
     "duration": 0.01463,
     "end_time": "2021-09-11T12:37:35.385510",
     "exception": false,
     "start_time": "2021-09-11T12:37:35.370880",
     "status": "completed"
    },
    "tags": []
   },
   "outputs": [],
   "source": []
  }
 ],
 "metadata": {
  "kernelspec": {
   "display_name": "Python 3",
   "language": "python",
   "name": "python3"
  },
  "language_info": {
   "codemirror_mode": {
    "name": "ipython",
    "version": 3
   },
   "file_extension": ".py",
   "mimetype": "text/x-python",
   "name": "python",
   "nbconvert_exporter": "python",
   "pygments_lexer": "ipython3",
   "version": "3.7.10"
  },
  "papermill": {
   "default_parameters": {},
   "duration": 10.493265,
   "end_time": "2021-09-11T12:37:36.010112",
   "environment_variables": {},
   "exception": null,
   "input_path": "__notebook__.ipynb",
   "output_path": "__notebook__.ipynb",
   "parameters": {},
   "start_time": "2021-09-11T12:37:25.516847",
   "version": "2.3.3"
  }
 },
 "nbformat": 4,
 "nbformat_minor": 5
}
